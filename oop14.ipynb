{
 "cells": [
  {
   "cell_type": "code",
   "execution_count": null,
   "metadata": {},
   "outputs": [],
   "source": [
    "Объекты\n",
    "Некоторые данные и действия над ними могут объединяться вместе в единый объект. В Python всё, по сути, является объектом. Объект числа хранит своё значение — данные, мы можем вызвать его методы, совершать действия. \n",
    "\n",
    "number = 2.5   \n",
    "# Вызовем метод is_integer. Он скажет нам, является ли number целым числом  \n",
    "print(number.is_integer())  \n",
    "# => False  \n",
    "  \n",
    "# Давайте попробуем представить number как обыкновенную дробь  \n",
    "print(number.as_integer_ratio())  \n",
    "# => (5, 2)  \n",
    "# Действительно 2.5 = 5/2   \n",
    "Посмотрим на список: он хранит данные своих элементов, мы можем совершать над ними действия встроенными методами.\n",
    "\n",
    "people = [\"Vasiliy\", \"Stanislav\", \"Alexandra\", \"Vasiliy\"]  \n",
    "  \n",
    "# Посчитаем число Василиев с помощью метода count  \n",
    "print(people.count(\"Vasiliy\"))  \n",
    "# => 2  \n",
    "  \n",
    "# Теперь отсортируем   \n",
    "people.sort()  \n",
    "print(people)  \n",
    "# => ['Alexandra', 'Stanislav', 'Vasiliy', 'Vasiliy']  "
   ]
  },
  {
   "cell_type": "code",
   "execution_count": null,
   "metadata": {},
   "outputs": [],
   "source": [
    "14.3. Классы\n",
    " Добавить страницу в мои закладки\n",
    "рисунок\n",
    "\n",
    "Классы\n",
    "У всех встроенных объектов есть свой класс. В примере для числа 2.5 мы видим класс действительных чисел (float), для списка — класс списка (list). Класс — это некая заготовка или чертёж, которая описывает общую структуру, свойства и действия для объектов. \n",
    "\n",
    "number = 2.5  \n",
    "print(number.__class__)  \n",
    "# => <class 'float'>  \n",
    "  \n",
    "people = [\"Vasiliy\", \"Stanislav\", \"Alexandra\", \"Vasiliy\"]  \n",
    "print(people.__class__)  \n",
    "# => <class 'list'>  \n",
    "Определим пустой класс, он не делает ничего, но позволит нам посмотреть на синтаксис.\n",
    "\n",
    "# Используем ключевое слово class, за которым идёт название класса, в примере это SalesReport  \n",
    "class SalesReport():  \n",
    "    pass  \n",
    "  \n",
    "# Сравните это с определением пустой функции  \n",
    "# Команда pass не делает ничего; на её месте могли быть другие инструкции  \n",
    "# Мы используем её только потому, что синтаксически python требует, чтобы там было хоть что-то  \n",
    "def build_report():  \n",
    "    pass  \n",
    "  \n",
    "  \n",
    "# И давайте определим ещё один класс  \n",
    "# Для имён классов традиционно используются имена в формате CamelCase, где начала слов отмечаются большими буквами  \n",
    "# Это позволяет легко отличать их от функций, которые пишутся в формате snake_case  \n",
    "class SkillfactoryStudent():  \n",
    "    pass  "
   ]
  },
  {
   "cell_type": "code",
   "execution_count": null,
   "metadata": {},
   "outputs": [],
   "source": [
    "14.4. Объекты из классов\n",
    " Добавить страницу в мои закладки\n",
    "рисунок\n",
    "\n",
    "Объекты из классов\n",
    "Мы написали свой первый класс, давайте создадим по нему объект.\n",
    "Вызываем класс, и получаем новый объект, аналогично тому, как вызывается функция и получается результат.\n",
    "\n",
    "class SalesReport():  \n",
    "    pass  \n",
    "  \n",
    "# создаём объект по классу  \n",
    "report = SalesReport()  \n",
    "  \n",
    "# мы можем создавать множество объектов по одному классу  \n",
    "report_2 = SalesReport()  \n",
    "  \n",
    "# Это будут разные объекты.   \n",
    "print(report == report_2)  \n",
    "# => False  \n",
    "Созданный таким образом объект часто называют экземпляром класса (instance).\n",
    "Подобное название часто встречается в статьях и книгах.\n",
    "\n"
   ]
  },
  {
   "cell_type": "code",
   "execution_count": null,
   "metadata": {},
   "outputs": [],
   "source": [
    "class DepartmentReport():  \n",
    "    pass\n",
    "    \n",
    "department_report = DepartmentReport()"
   ]
  },
  {
   "cell_type": "code",
   "execution_count": null,
   "metadata": {},
   "outputs": [],
   "source": [
    "14.5. Атрибуты и методы\n",
    " Добавить страницу в мои закладки\n",
    "рисунок\n",
    "\n",
    "Атрибуты и методы\n",
    "Мы создали объект по пустому классу. Давайте добавим ему данные. Сделаем класс для отчётов по продажам SalesReport.\n",
    "Пусть у нас есть в компании менеджеры по продажам, они заключают сделки,\n",
    "и мы хотим посчитать для них метрики общего объёма продаж.\n",
    "\n",
    "# По-прежнему пока создаём пустой класс  \n",
    "class SalesReport():  \n",
    "    pass  \n",
    "  \n",
    "# Создаём первый отчёт по продажам   \n",
    "report = SalesReport()  \n",
    "  \n",
    "# Мы добавим новый атрибут объекту.  \n",
    "# Для этого через точку напишем имя атрибута и дальше как с обычной переменной  \n",
    "report.amount = 10  \n",
    "  \n",
    "# То же самое делаем для второго отчёта.  \n",
    "report_2 = SalesReport()  \n",
    "report_2.amount = 20  \n",
    "  \n",
    "# Создадим вспомогательную функцию, она будет печатать общую сумму из отчёта  \n",
    "def print_report(report):  \n",
    "    print(\"Total amount:\", report.amount)  \n",
    "      \n",
    "print_report(report) # => Total amount: 10  \n",
    "print_report(report_2) # => Total amount: 20  \n",
    "Для разных отчётов вывелись разные значения, хотя объекты создавались из одного класса.\n",
    "Функция print_report делает операцию над отчётом, так как классы увязывают данные и действия над ними,\n",
    "положим print_report внутрь класса.\n",
    "\n",
    "class SalesReport():  \n",
    "    # Наш новый метод внутри класса.  \n",
    "    # Мы определяем его похожим образом с обычными функциями,  \n",
    "    #   но только помещаем внутрь класса и первым аргументом передаём self  \n",
    "    def print_report(self):  \n",
    "        print(\"Total amount:\", self.amount)  \n",
    "          \n",
    "          \n",
    "# Дальше мы применяем report так же, как и в примере выше   \n",
    "report = SalesReport()  \n",
    "report.amount = 10  \n",
    "  \n",
    "report_2 = SalesReport()  \n",
    "report_2.amount = 20  \n",
    "  \n",
    "# Используем наши новые методы  \n",
    "report.print_report() # => Total amount: 10  \n",
    "report_2.print_report() # => Total amount: 20  \n",
    "Мы определили метод внутри класса, и он стал доступен у всех экземпляров этого класса.\n",
    "Методы в целом похожи на обычные функции, но их ключевое отличие —  доступ к самому объекту.\n",
    "В методе мы первым аргументом получаем self — в нашем случае это отчёт, что позволяет \n",
    "использовать атрибуты объекта внутри метода, как мы сделали с amount. Self передаётся автоматически.\n",
    "При вызове метода мы не передавали никакие аргументы.\n",
    "\n",
    "Давайте для примера определим ещё пару методов:\n",
    "\n",
    "class SalesReport():  \n",
    "    # Позволим добавлять много разных сделок   \n",
    "    def add_deal(self, amount):   \n",
    "        # На первой сделке создадим список для хранения всех сделок   \n",
    "        if not hasattr(self, 'deals'):  \n",
    "            self.deals = []  \n",
    "        # Добавим текущую сделку  \n",
    "        self.deals.append(amount)  \n",
    "          \n",
    "    # Посчитаем сумму всех сделок      \n",
    "    def total_amount(self):  \n",
    "        return sum(self.deals)  \n",
    "      \n",
    "    def print_report(self):  \n",
    "        print(\"Total sales:\", self.total_amount())  \n",
    "          \n",
    "# Используем наши новые возможности  \n",
    "# Добавим две сделки и распечатаем отчёт  \n",
    "report = SalesReport()  \n",
    "report.add_deal(10_000)  \n",
    "report.add_deal(30_000)  \n",
    "report.print_report() # => Total sales: 40000  \n",
    " \n",
    "\n",
    "Атрибут deals, определённый в одном методе, становится доступен сразу во всех методах класса.\n",
    "Через self становятся доступны и остальные методы, например, print_report использует метод total_amount.\n",
    "Это позволяет компактно упаковывать логику внутри класса: внешнее использование становится гораздо лаконичнее."
   ]
  },
  {
   "cell_type": "code",
   "execution_count": 1,
   "metadata": {},
   "outputs": [
    {
     "name": "stdout",
     "output_type": "stream",
     "text": [
      "Total sales: 40000\n"
     ]
    }
   ],
   "source": [
    "class SalesReport():  \n",
    "    # Позволим добавлять много разных сделок   \n",
    "    def add_deal(self, amount):   \n",
    "        # На первой сделке создадим список для хранения всех сделок   \n",
    "        if not hasattr(self, 'deals'):  \n",
    "            self.deals = []  \n",
    "        # Добавим текущую сделку  \n",
    "        self.deals.append(amount)  \n",
    "          \n",
    "    # Посчитаем сумму всех сделок      \n",
    "    def total_amount(self):  \n",
    "        return sum(self.deals)  \n",
    "      \n",
    "    def print_report(self):  \n",
    "        print(\"Total sales:\", self.total_amount())  \n",
    "          \n",
    "# Используем наши новые возможности  \n",
    "# Добавим две сделки и распечатаем отчёт  \n",
    "o_report = SalesReport()  \n",
    "o_report.add_deal(10_000)  \n",
    "o_report.add_deal(30_000)  \n",
    "report.print_report() # => Total sales: 40000 "
   ]
  },
  {
   "cell_type": "code",
   "execution_count": 11,
   "metadata": {},
   "outputs": [
    {
     "ename": "NameError",
     "evalue": "name 'self' is not defined",
     "output_type": "error",
     "traceback": [
      "\u001b[1;31m---------------------------------------------------------------------------\u001b[0m",
      "\u001b[1;31mNameError\u001b[0m                                 Traceback (most recent call last)",
      "\u001b[1;32m<ipython-input-11-4453956192c2>\u001b[0m in \u001b[0;36m<module>\u001b[1;34m\u001b[0m\n\u001b[1;32m----> 1\u001b[1;33m \u001b[0mself\u001b[0m\u001b[1;33m.\u001b[0m\u001b[0mdeal\u001b[0m\u001b[1;33m(\u001b[0m\u001b[1;33m)\u001b[0m\u001b[1;33m\u001b[0m\u001b[1;33m\u001b[0m\u001b[0m\n\u001b[0m",
      "\u001b[1;31mNameError\u001b[0m: name 'self' is not defined"
     ]
    }
   ],
   "source": [
    "self.deal()"
   ]
  },
  {
   "cell_type": "code",
   "execution_count": 12,
   "metadata": {},
   "outputs": [
    {
     "name": "stdout",
     "output_type": "stream",
     "text": [
      "Имя: Андрей. Зарплата: 2000\n",
      "Имя: Мария. Зарплата: 5000\n",
      "Всего сотрудников: 2\n"
     ]
    }
   ],
   "source": [
    "class Employee:  \n",
    "    \"\"\"Базовый класс для всех сотрудников\"\"\"  \n",
    "    emp_count = 0  \n",
    "  \n",
    "    def __init__(self, name, salary):  \n",
    "        self.name = name  \n",
    "        self.salary = salary  \n",
    "        Employee.emp_count += 1  \n",
    "  \n",
    "    def display_count(self):  \n",
    "        print('Всего сотрудников: %d' % Employee.emp_count)\n",
    "        \n",
    "    def display_employee(self):  \n",
    "        print('Имя: {}. Зарплата: {}'.format(self.name, self.salary))  \n",
    "  \n",
    "  \n",
    "# Это создаст первый объект класса Employee  \n",
    "emp1 = Employee(\"Андрей\", 2000)  \n",
    "# Это создаст второй объект класса Employee  \n",
    "emp2 = Employee(\"Мария\", 5000)  \n",
    "emp1.display_employee()  \n",
    "emp2.display_employee()  \n",
    "print(\"Всего сотрудников: %d\" % Employee.emp_count)\n"
   ]
  },
  {
   "cell_type": "code",
   "execution_count": 22,
   "metadata": {},
   "outputs": [
    {
     "data": {
      "text/plain": [
       "8"
      ]
     },
     "execution_count": 22,
     "metadata": {},
     "output_type": "execute_result"
    }
   ],
   "source": [
    "emp1.age = 7  # Добавит атрибут 'age'\n",
    "emp2.age = 8  # Изменит атрибут 'age'\n",
    "del emp1.age  # Удалит атрибут 'age'\n",
    "emp2.age"
   ]
  },
  {
   "cell_type": "code",
   "execution_count": 20,
   "metadata": {},
   "outputs": [
    {
     "data": {
      "text/plain": [
       "<__main__.Employee at 0x95ac0a0>"
      ]
     },
     "execution_count": 20,
     "metadata": {},
     "output_type": "execute_result"
    }
   ],
   "source": [
    "Вместо использования привычных операторов для доступа к атрибутам вы можете использовать эти функции:\n",
    "\n",
    "getattr(obj, name [, default]) — для доступа к атрибуту объекта.\n",
    "hasattr(obj, name) — проверить, есть ли в obj атрибут name.\n",
    "setattr(obj, name, value) — задать атрибут. Если атрибут не существует, он будет создан.\n",
    "delattr(obj, name) — удалить атрибут."
   ]
  },
  {
   "cell_type": "code",
   "execution_count": 26,
   "metadata": {},
   "outputs": [
    {
     "ename": "NameError",
     "evalue": "name 'empl' is not defined",
     "output_type": "error",
     "traceback": [
      "\u001b[1;31m---------------------------------------------------------------------------\u001b[0m",
      "\u001b[1;31mNameError\u001b[0m                                 Traceback (most recent call last)",
      "\u001b[1;32m<ipython-input-26-166067461d74>\u001b[0m in \u001b[0;36m<module>\u001b[1;34m\u001b[0m\n\u001b[0;32m      2\u001b[0m \u001b[0mgetattr\u001b[0m\u001b[1;33m(\u001b[0m\u001b[0memp2\u001b[0m\u001b[1;33m,\u001b[0m \u001b[1;34m'age'\u001b[0m\u001b[1;33m)\u001b[0m  \u001b[1;31m# возвращает значение атрибута 'age'\u001b[0m\u001b[1;33m\u001b[0m\u001b[1;33m\u001b[0m\u001b[0m\n\u001b[0;32m      3\u001b[0m \u001b[0msetattr\u001b[0m\u001b[1;33m(\u001b[0m\u001b[0memp1\u001b[0m\u001b[1;33m,\u001b[0m \u001b[1;34m'age'\u001b[0m\u001b[1;33m,\u001b[0m \u001b[1;36m8\u001b[0m\u001b[1;33m)\u001b[0m  \u001b[1;31m#устанавливает атрибут 'age' на 8\u001b[0m\u001b[1;33m\u001b[0m\u001b[1;33m\u001b[0m\u001b[0m\n\u001b[1;32m----> 4\u001b[1;33m \u001b[0mdelattr\u001b[0m\u001b[1;33m(\u001b[0m\u001b[0mempl\u001b[0m\u001b[1;33m,\u001b[0m \u001b[1;34m'age'\u001b[0m\u001b[1;33m)\u001b[0m  \u001b[1;31m# удаляет атрибут 'age'\u001b[0m\u001b[1;33m\u001b[0m\u001b[1;33m\u001b[0m\u001b[0m\n\u001b[0m",
      "\u001b[1;31mNameError\u001b[0m: name 'empl' is not defined"
     ]
    }
   ],
   "source": [
    "hasattr(emp2, 'age')  # возвращает true если атрибут 'age' существует\n",
    "getattr(emp2, 'age')  # возвращает значение атрибута 'age' \n",
    "setattr(emp1, 'age', 8)  #устанавливает атрибут 'age' на 8\n",
    "delattr(empl, 'age')  # удаляет атрибут 'age'\n"
   ]
  },
  {
   "cell_type": "code",
   "execution_count": null,
   "metadata": {},
   "outputs": [],
   "source": [
    "Встроенные атрибуты класса\n",
    "Каждый класс Python хранит встроенные атрибуты, и предоставляет к ним доступ через оператор ., как и любой другой атрибут:\n",
    "\n",
    "__dict__ — словарь, содержащий пространство имен класса.\n",
    "__doc__ — строка документации класса. None если, документация отсутствует.\n",
    "__name__ — имя класса.\n",
    "__module__ — имя модуля, в котором определяется класс. Этот атрибут __main__ в интерактивном режиме.\n",
    "__bases__ — могут быть пустые tuple, содержащие базовые классы, в порядке их появления в списке базового класса.\n",
    "Для вышеуказанного класса давайте попробуем получить доступ ко всем этим атрибутам:"
   ]
  },
  {
   "cell_type": "code",
   "execution_count": 27,
   "metadata": {},
   "outputs": [
    {
     "name": "stdout",
     "output_type": "stream",
     "text": [
      "Employee.__doc__: Базовый класс для всех сотрудников\n",
      "Employee.__name__: Employee\n",
      "Employee.__module__: __main__\n",
      "Employee.__bases__: (<class 'object'>,)\n",
      "Employee.__dict__: {'__module__': '__main__', '__doc__': 'Базовый класс для всех сотрудников', 'emp_count': 0, '__init__': <function Employee.__init__ at 0x0000000004DC3280>, 'display_count': <function Employee.display_count at 0x0000000004CF1940>, 'display_employee': <function Employee.display_employee at 0x0000000005E9A8B0>, '__dict__': <attribute '__dict__' of 'Employee' objects>, '__weakref__': <attribute '__weakref__' of 'Employee' objects>}\n"
     ]
    }
   ],
   "source": [
    "class Employee:  \n",
    "    \"\"\"Базовый класс для всех сотрудников\"\"\"  \n",
    "    emp_count = 0  \n",
    "  \n",
    "    def __init__(self, name, salary):  \n",
    "        self.name = name  \n",
    "        self.salary = salary  \n",
    "        Employee.empCount += 1  \n",
    "  \n",
    "    def display_count(self):  \n",
    "        print('Всего сотрудников: %d' % Employee.empCount)  \n",
    "  \n",
    "    def display_employee(self):  \n",
    "        print('Имя: {}. Зарплата: {}'.format(self.name, self.salary))  \n",
    "  \n",
    "  \n",
    "print(\"Employee.__doc__:\", Employee.__doc__)  \n",
    "print(\"Employee.__name__:\", Employee.__name__)  \n",
    "print(\"Employee.__module__:\", Employee.__module__)  \n",
    "print(\"Employee.__bases__:\", Employee.__bases__)  \n",
    "print(\"Employee.__dict__:\", Employee.__dict__) \n"
   ]
  },
  {
   "cell_type": "code",
   "execution_count": null,
   "metadata": {},
   "outputs": [],
   "source": [
    "Удаление объектов (сбор мусора)\n",
    "Python автоматически удаляет ненужные объекты (встроенные типы или экземпляры классов),\n",
    "чтобы освободить пространство памяти. С помощью процесса ‘Garbage Collection’ Python периодически\n",
    "восстанавливает блоки памяти, которые больше не используются.\n",
    "\n",
    "Сборщик мусора Python запускается во время выполнения программы и тогда, когда количество ссылок \n",
    "на объект достигает нуля. С изменением количества обращений к нему, меняется количество ссылок.\n",
    "\n",
    "Когда объект присваивают новой переменной или добавляют в контейнер (список, кортеж, словарь),\n",
    "количество ссылок объекта увеличивается. Количество ссылок на объект уменьшается, когда он удаляется с помощью del,\n",
    "или его ссылка выходит за пределы видимости.\n",
    "Когда количество ссылок достигает нуля, Python автоматически собирает его."
   ]
  },
  {
   "cell_type": "code",
   "execution_count": 28,
   "metadata": {},
   "outputs": [],
   "source": [
    "a = 40  # создали объект <40>\n",
    "b = a  # увеличивает количество ссылок  <40> \n",
    "c = [b]  # увеличивает количество ссылок <40> \n",
    "\n",
    "del a  # уменьшает количество ссылок <40>\n",
    "b = 100  # уменьшает количество ссылок <40> \n",
    "c[0] = -1  # уменьшает количество ссылок <40>\n"
   ]
  },
  {
   "cell_type": "code",
   "execution_count": null,
   "metadata": {},
   "outputs": [],
   "source": [
    "Обычно вы не заметите, когда сборщик мусора уничтожает экземпляр и очищает свое пространство.\n",
    "Но классом можно реализовать специальный метод __del__(), называемый деструктором. \n",
    "Он вызывается, перед уничтожением экземпляра.\n",
    "Этот метод может использоваться для очистки любых ресурсов памяти.\n",
    "\n",
    "Пример работы __del__()\n",
    "Деструктор __del__() выводит имя класса того экземпляра, который должен быть уничтожен:\n",
    "\n"
   ]
  },
  {
   "cell_type": "code",
   "execution_count": 29,
   "metadata": {},
   "outputs": [
    {
     "name": "stdout",
     "output_type": "stream",
     "text": [
      "149972496 149972496 149972496\n",
      "Point уничтожен\n"
     ]
    }
   ],
   "source": [
    "class Point:  \n",
    "    def __init__(self, x=0, y=0):  \n",
    "        self.x = x  \n",
    "        self.y = y  \n",
    "  \n",
    "    def __del__(self):  \n",
    "        class_name = self.__class__.__name__  \n",
    "        print('{} уничтожен'.format(class_name))  \n",
    "  \n",
    "  \n",
    "pt1 = Point()  \n",
    "pt2 = pt1  \n",
    "pt3 = pt1  \n",
    "print(id(pt1), id(pt2), id(pt3))  # выведите id объектов  \n",
    "del pt1  \n",
    "del pt2  \n",
    "del pt3\n"
   ]
  },
  {
   "cell_type": "code",
   "execution_count": null,
   "metadata": {},
   "outputs": [],
   "source": [
    "Наследование класса в python\n",
    "Наследование — это процесс, когда один класс наследует атрибуты и методы другого.\n",
    "Класс, чьи свойства и методы наследуются, называют Родителем или Суперклассом.\n",
    "А класс, свойства которого наследуются — класс-потомок или Подкласс.\n",
    "\n",
    "Вместо того, чтобы начинать с нуля, вы можете создать класс, на основе уже существующего. \n",
    "Укажите родительский класс в круглых скобках после имени нового класса.\n",
    "\n",
    "Класс наследник наследует атрибуты своего родительского класса. Вы можете использовать \n",
    "эти атрибуты так, как будто они определены в классе наследнике. Он может переопределять\n",
    "элементы данных и методы родителя.\n",
    "\n",
    "Синтаксис наследования класса\n",
    "Классы наследники объявляются так, как и родительские классы. \n",
    "Только, список наследуемых классов, указан после имени класса.\n",
    "\n",
    "class SubClassName(ParentClass1[, ParentClass2, ...]):\n",
    "\t\"\"\"Необязательная строка документации класса\"\"\" \n",
    "\tclass_suite"
   ]
  },
  {
   "cell_type": "code",
   "execution_count": 31,
   "metadata": {},
   "outputs": [
    {
     "name": "stdout",
     "output_type": "stream",
     "text": [
      "Вызов конструктора класса наследника\n",
      "Вызов метода класса наследника\n",
      "Вызов родительского метода\n",
      "Атрибут родителя: 200\n"
     ]
    }
   ],
   "source": [
    "#Пример наследования класса в Python\n",
    "class Parent:  # объявляем родительский класс  \n",
    "    parent_attr = 100  \n",
    "  \n",
    "    def __init__(self):  \n",
    "        print('Вызов родительского конструктора')  \n",
    "  \n",
    "    def parent_method(self):  \n",
    "        print('Вызов родительского метода')  \n",
    "  \n",
    "    def set_attr(self, attr):  \n",
    "        Parent.parent_attr = attr  \n",
    "  \n",
    "    def get_attr(self):  \n",
    "        print('Атрибут родителя: {}'.format(Parent.parent_attr))  \n",
    "  \n",
    "  \n",
    "class Child(Parent):  # объявляем класс наследник  \n",
    "    def __init__(self):  \n",
    "        print('Вызов конструктора класса наследника')  \n",
    "  \n",
    "    def child_method(self):  \n",
    "        print('Вызов метода класса наследника')  \n",
    "  \n",
    "  \n",
    "c = Child()  # экземпляр класса Child  \n",
    "c.child_method()  # вызов метода child_method  \n",
    "c.parent_method()  # вызов родительского метода parent_method  \n",
    "c.set_attr(200)  # еще раз вызов родительского метода  \n",
    "c.get_attr()  # снова вызов родительского метода\n"
   ]
  },
  {
   "cell_type": "code",
   "execution_count": null,
   "metadata": {},
   "outputs": [],
   "source": [
    "#Аналогичным образом вы можете управлять классом с помощью нескольких родительских классов:\n",
    "class A:        # объявите класс A\n",
    "...\n",
    "\n",
    "class B:        # объявите класс B\n",
    "...\n",
    "\n",
    "class C(A, B):  # C наследуется от A и B"
   ]
  },
  {
   "cell_type": "code",
   "execution_count": null,
   "metadata": {},
   "outputs": [],
   "source": [
    "Вы можете использовать функции issubclass() или isinstance() для проверки отношений двух классов и экземпляров.\n",
    "\n",
    "Логическая функция issubclass(sub, sup) возвращает значение True,\n",
    "если данный подкласс sub действительно является подклассом sup.\n",
    "Логическая функция isinstance(obj, Class) возвращает True, \n",
    "если obj является экземпляром класса Class или является экземпляром подкласса класса.\n",
    "Переопределение методов\n",
    "Вы всегда можете переопределить методы родительского класса. \n",
    "В вашем подклассе могут понадобиться специальные функции.\n",
    "Это одна из причин переопределения родительских методов.\n",
    "\n"
   ]
  },
  {
   "cell_type": "code",
   "execution_count": 32,
   "metadata": {},
   "outputs": [
    {
     "name": "stdout",
     "output_type": "stream",
     "text": [
      "Вызов метода наследника\n"
     ]
    }
   ],
   "source": [
    "#Пример переопределения методов:\n",
    "class Parent:  # объявите родительский класс  \n",
    "    def my_method(self):  \n",
    "        print('Вызов родительского метода')  \n",
    "  \n",
    "  \n",
    "class Child(Parent):  # объявите класс наследник  \n",
    "    def my_method(self):  \n",
    "        print('Вызов метода наследника')  \n",
    "\n",
    "  \n",
    "c = Child()  # экземпляр класса Child  \n",
    "c.my_method()  # метод переопределен классом наследником\n"
   ]
  },
  {
   "cell_type": "code",
   "execution_count": null,
   "metadata": {},
   "outputs": [],
   "source": [
    "Популярные базовые методы\n",
    "В данной таблице перечислены некоторые общие функции. \n",
    "Вы можете переопределить их в своих собственных классах.\n",
    "\n",
    "№\tМетод, описание и пример вызова\n",
    "1\t__init__(self [, args...]) — конструктор (с любыми необязательными аргументами)\n",
    "obj = className(args)\n",
    "2\t__del__(self) — деструктор, удаляет объект\n",
    "del obj\n",
    "3\t__repr__(self) — программное представление объекта\n",
    "repr(obj)\n",
    "4\t__str__(self) — строковое представление объекта\n",
    "str(obj)\n",
    "Пример использования __add__\n",
    "Предположим, вы создали класс Vector для представления двумерных векторов.\n",
    "Что происходит, когда вы используете дополнительный оператор для их добавления?\n",
    "Скорее всего, Python будет против.\n",
    "\n",
    "Однако вы можете определить метод __add__ в своем классе для добавления\n",
    "векторов и оператор + будет вести себя так как нужно."
   ]
  },
  {
   "cell_type": "code",
   "execution_count": 33,
   "metadata": {},
   "outputs": [
    {
     "name": "stdout",
     "output_type": "stream",
     "text": [
      "Vector (7, 8)\n"
     ]
    }
   ],
   "source": [
    "class Vector:   \n",
    "    def __init__(self, a, b):   \n",
    "        self.a = a   \n",
    "        self.b = b   \n",
    "    \n",
    "    def __str__(self):    \n",
    "        return 'Vector ({}, {})'.format(self.a, self.b)  \n",
    "    \n",
    "    def __add__(self, other):   \n",
    "        return Vector(self.a + other.a, self.b + other.b)   \n",
    "     \n",
    "     \n",
    "v1 = Vector(2, 10)   \n",
    "v2 = Vector(5, -2)    \n",
    "print(v1 + v2)\n"
   ]
  },
  {
   "cell_type": "code",
   "execution_count": null,
   "metadata": {},
   "outputs": [],
   "source": [
    "Приватные методы и атрибуты\n",
    "Атрибуты класса могут быть не видимыми вне определения класса.\n",
    "Вам нужно указать атрибуты с __ вначале, и эти атрибуты не будут вызваны вне класса.\n",
    "\n"
   ]
  },
  {
   "cell_type": "code",
   "execution_count": 36,
   "metadata": {},
   "outputs": [
    {
     "name": "stdout",
     "output_type": "stream",
     "text": [
      "1\n",
      "2\n",
      "2\n"
     ]
    }
   ],
   "source": [
    "#Пример приватного атрибута:\n",
    "class JustCounter:  \n",
    "    __secret_count = 0  \n",
    "  \n",
    "    def count(self):  \n",
    "        self.__secret_count += 1  \n",
    "        print(self.__secret_count)  \n",
    "  \n",
    "  \n",
    "counter = JustCounter()  \n",
    "counter.count()  \n",
    "counter.count()  \n",
    "#print(counter.__secret_count)  #AttributeError: 'JustCounter' object has no attribute '__secret_count'\n",
    "#Вы можете получить доступ к таким атрибутам, так object._className__attrName.\n",
    "#Если вы замените свою последнюю строку следующим образом, то она будет работать.\n",
    "\n",
    "\n",
    "print(counter._JustCounter__secret_count)\n",
    "    "
   ]
  },
  {
   "cell_type": "code",
   "execution_count": 42,
   "metadata": {},
   "outputs": [],
   "source": [
    "class Dog:  # объявите родительский класс  \n",
    "    def bark(self):  \n",
    "        list(\"Bark!\")  \n",
    "    def give_paw(self):  \n",
    "        print(\"Paw\")"
   ]
  },
  {
   "cell_type": "code",
   "execution_count": 47,
   "metadata": {},
   "outputs": [],
   "source": [
    "Dog.bark(1)"
   ]
  },
  {
   "cell_type": "code",
   "execution_count": null,
   "metadata": {},
   "outputs": [],
   "source": []
  }
 ],
 "metadata": {
  "kernelspec": {
   "display_name": "Python 3",
   "language": "python",
   "name": "python3"
  },
  "language_info": {
   "codemirror_mode": {
    "name": "ipython",
    "version": 3
   },
   "file_extension": ".py",
   "mimetype": "text/x-python",
   "name": "python",
   "nbconvert_exporter": "python",
   "pygments_lexer": "ipython3",
   "version": "3.8.5"
  },
  "varInspector": {
   "cols": {
    "lenName": 16,
    "lenType": 16,
    "lenVar": 40
   },
   "kernels_config": {
    "python": {
     "delete_cmd_postfix": "",
     "delete_cmd_prefix": "del ",
     "library": "var_list.py",
     "varRefreshCmd": "print(var_dic_list())"
    },
    "r": {
     "delete_cmd_postfix": ") ",
     "delete_cmd_prefix": "rm(",
     "library": "var_list.r",
     "varRefreshCmd": "cat(var_dic_list()) "
    }
   },
   "types_to_exclude": [
    "module",
    "function",
    "builtin_function_or_method",
    "instance",
    "_Feature"
   ],
   "window_display": false
  }
 },
 "nbformat": 4,
 "nbformat_minor": 4
}
